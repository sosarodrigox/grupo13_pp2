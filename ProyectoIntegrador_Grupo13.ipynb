{
  "nbformat": 4,
  "nbformat_minor": 0,
  "metadata": {
    "colab": {
      "provenance": [],
      "authorship_tag": "ABX9TyNvYcsQq0kptdPo36wpmkQU",
      "include_colab_link": true
    },
    "kernelspec": {
      "name": "python3",
      "display_name": "Python 3"
    },
    "language_info": {
      "name": "python"
    }
  },
  "cells": [
    {
      "cell_type": "markdown",
      "metadata": {
        "id": "view-in-github",
        "colab_type": "text"
      },
      "source": [
        "<a href=\"https://colab.research.google.com/github/sosarodrigox/grupo13_pp2/blob/main/ProyectoIntegrador_Grupo13.ipynb\" target=\"_parent\"><img src=\"https://colab.research.google.com/assets/colab-badge.svg\" alt=\"Open In Colab\"/></a>"
      ]
    },
    {
      "cell_type": "markdown",
      "source": [
        "# Instituto Superior Politécnico Córdoba\n",
        "\n",
        "## Tecnicatura Superior en Ciencia de Datos e Inteligencia Artificial\n",
        "\n",
        "### Cátedra: Práctica Profesionalizante II\n",
        "\n",
        "**Docente**: Facundo Oliva Cuneo\n",
        "\n",
        "**Año**: 2024\n",
        "  \n",
        "**Trabajo Práctico Integrador**\n",
        "\n",
        "## Grupo 13\n",
        "### Integrantes:\n",
        "\n",
        "- **Ingaramo, Ma. Eugenia**  \n",
        "  [eugenia.ingaramo@gmail.com](mailto:eugenia.ingaramo@gmail.com)\n",
        "- **Lonardi, Pablo**  \n",
        "  [lonardipablo@gmail.com](mailto:lonardipablo@gmail.com)\n",
        "- **Margheim, Carolina**  \n",
        "  [caro08.m@gmail.com](mailto:caro08.m@gmail.com)\n",
        "- **Sosa, Rodrigo**  \n",
        "  [sosarodrigox@gmail.com](mailto:sosarodrigox@gmail.com)\n",
        "- **Zenere, Mauricio**  \n",
        "  [zeneremauricio@gmail.com](mailto:zeneremauricio@gmail.com)"
      ],
      "metadata": {
        "id": "Sz3ncOVcGr4G"
      }
    },
    {
      "cell_type": "markdown",
      "source": [],
      "metadata": {
        "id": "Q9PaSGplLP6M"
      }
    },
    {
      "cell_type": "code",
      "execution_count": null,
      "metadata": {
        "colab": {
          "base_uri": "https://localhost:8080/"
        },
        "id": "qo0M4sMjECYF",
        "outputId": "66cfa5cd-a681-436a-f04d-f1c14cc0ade6"
      },
      "outputs": [
        {
          "output_type": "stream",
          "name": "stdout",
          "text": [
            "Directorio actual: /content\n",
            "Archivos en el directorio actual: ['.config', 'sample_data']\n"
          ]
        }
      ],
      "source": [
        "import os\n",
        "\n",
        "# Imprime el directorio de trabajo actual\n",
        "print(\"Directorio actual:\", os.getcwd())\n",
        "\n",
        "# Lista los archivos en el directorio actual\n",
        "print(\"Archivos en el directorio actual:\", os.listdir())\n"
      ]
    },
    {
      "cell_type": "code",
      "source": [
        "!git clone https://github.com/sosarodrigox/grupo13_pp2.git"
      ],
      "metadata": {
        "colab": {
          "base_uri": "https://localhost:8080/"
        },
        "id": "jUIXywJ_f0YB",
        "outputId": "988815b1-b2e7-4d25-8ce3-9954733eb16a"
      },
      "execution_count": null,
      "outputs": [
        {
          "output_type": "stream",
          "name": "stdout",
          "text": [
            "Cloning into 'grupo13_pp2'...\n",
            "remote: Enumerating objects: 10, done.\u001b[K\n",
            "remote: Counting objects: 100% (10/10), done.\u001b[K\n",
            "remote: Compressing objects: 100% (10/10), done.\u001b[K\n",
            "remote: Total 10 (delta 1), reused 0 (delta 0), pack-reused 0\u001b[K\n",
            "Receiving objects: 100% (10/10), done.\n",
            "Resolving deltas: 100% (1/1), done.\n"
          ]
        }
      ]
    },
    {
      "cell_type": "code",
      "source": [
        "%cd grupo13_pp2\n"
      ],
      "metadata": {
        "colab": {
          "base_uri": "https://localhost:8080/"
        },
        "id": "DXyuH40wiaAJ",
        "outputId": "8341820f-365c-4fdc-b33e-96fafc6b1970"
      },
      "execution_count": null,
      "outputs": [
        {
          "output_type": "stream",
          "name": "stdout",
          "text": [
            "/content/grupo13_pp2\n"
          ]
        }
      ]
    }
  ]
}