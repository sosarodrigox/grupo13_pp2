{
  "nbformat": 4,
  "nbformat_minor": 0,
  "metadata": {
    "colab": {
      "provenance": [],
      "authorship_tag": "ABX9TyNhKlZ1plenLjpafaeBJRI+",
      "include_colab_link": true
    },
    "kernelspec": {
      "name": "python3",
      "display_name": "Python 3"
    },
    "language_info": {
      "name": "python"
    }
  },
  "cells": [
    {
      "cell_type": "markdown",
      "metadata": {
        "id": "view-in-github",
        "colab_type": "text"
      },
      "source": [
        "<a href=\"https://colab.research.google.com/github/sosarodrigox/grupo13_pp2/blob/main/ProyectoIntegrador_Grupo13.ipynb\" target=\"_parent\"><img src=\"https://colab.research.google.com/assets/colab-badge.svg\" alt=\"Open In Colab\"/></a>"
      ]
    },
    {
      "cell_type": "markdown",
      "source": [
        "# Instituto Superior Politécnico Córdoba\n",
        "\n",
        "## Tecnicatura Superior en Ciencia de Datos e Inteligencia Artificial\n",
        "\n",
        "### Cátedra: Práctica Profesionalizante II\n",
        "\n",
        "**Docente**: Facundo Oliva Cuneo\n",
        "\n",
        "**Año**: 2024\n",
        "  \n",
        "**Trabajo Práctico Integrador**\n",
        "\n",
        "## Grupo 13\n",
        "### Integrantes:\n",
        "\n",
        "- **Ingaramo, Ma. Eugenia**  \n",
        "  [eugenia.ingaramo@gmail.com](mailto:eugenia.ingaramo@gmail.com)\n",
        "- **Lonardi, Pablo**  \n",
        "  [lonardipablo@gmail.com](mailto:lonardipablo@gmail.com)\n",
        "- **Margheim, Carolina**  \n",
        "  [caro08.m@gmail.com](mailto:caro08.m@gmail.com)\n",
        "- **Sosa, Rodrigo**  \n",
        "  [sosarodrigox@gmail.com](mailto:sosarodrigox@gmail.com)\n",
        "- **Zenere, Mauricio**  \n",
        "  [zeneremauricio@gmail.com](mailto:zeneremauricio@gmail.com)"
      ],
      "metadata": {
        "id": "Sz3ncOVcGr4G"
      }
    },
    {
      "cell_type": "markdown",
      "source": [],
      "metadata": {
        "id": "Q9PaSGplLP6M"
      }
    },
    {
      "cell_type": "code",
      "source": [
        "import pandas as pd\n",
        "\n",
        "# URL del archivo en formato 'Raw' en GitHub\n",
        "url = 'https://raw.githubusercontent.com/sosarodrigox/grupo13_pp2/main/data/data.csv'\n",
        "\n",
        "# Cargar los datos en un DataFrame\n",
        "data = pd.read_csv(url)\n",
        "\n",
        "# Mostrar las primeras filas para confirmar la carga correcta\n",
        "print(data.head())\n",
        "\n"
      ],
      "metadata": {
        "colab": {
          "base_uri": "https://localhost:8080/"
        },
        "id": "DXyuH40wiaAJ",
        "outputId": "e33814fc-5923-4a30-e37b-5d27d2e5c41b"
      },
      "execution_count": 12,
      "outputs": [
        {
          "output_type": "stream",
          "name": "stdout",
          "text": [
            "          isbn13      isbn10           title subtitle  \\\n",
            "0  9780002005883  0002005883          Gilead      NaN   \n",
            "1  9780002261982  0002261987    Spider's Web  A Novel   \n",
            "2  9780006163831  0006163831    The One Tree      NaN   \n",
            "3  9780006178736  0006178731  Rage of angels      NaN   \n",
            "4  9780006280897  0006280897  The Four Loves      NaN   \n",
            "\n",
            "                           authors                     categories  \\\n",
            "0               Marilynne Robinson                        Fiction   \n",
            "1  Charles Osborne;Agatha Christie  Detective and mystery stories   \n",
            "2             Stephen R. Donaldson               American fiction   \n",
            "3                   Sidney Sheldon                        Fiction   \n",
            "4              Clive Staples Lewis                 Christian life   \n",
            "\n",
            "                                           thumbnail  \\\n",
            "0  http://books.google.com/books/content?id=KQZCP...   \n",
            "1  http://books.google.com/books/content?id=gA5GP...   \n",
            "2  http://books.google.com/books/content?id=OmQaw...   \n",
            "3  http://books.google.com/books/content?id=FKo2T...   \n",
            "4  http://books.google.com/books/content?id=XhQ5X...   \n",
            "\n",
            "                                         description  published_year  \\\n",
            "0  A NOVEL THAT READERS and critics have been eag...          2004.0   \n",
            "1  A new 'Christie for Christmas' -- a full-lengt...          2000.0   \n",
            "2  Volume Two of Stephen Donaldson's acclaimed se...          1982.0   \n",
            "3  A memorable, mesmerizing heroine Jennifer -- b...          1993.0   \n",
            "4  Lewis' work on the nature of love divides love...          2002.0   \n",
            "\n",
            "   average_rating  num_pages  ratings_count  \n",
            "0            3.85      247.0          361.0  \n",
            "1            3.83      241.0         5164.0  \n",
            "2            3.97      479.0          172.0  \n",
            "3            3.93      512.0        29532.0  \n",
            "4            4.15      170.0        33684.0  \n"
          ]
        }
      ]
    }
  ]
}