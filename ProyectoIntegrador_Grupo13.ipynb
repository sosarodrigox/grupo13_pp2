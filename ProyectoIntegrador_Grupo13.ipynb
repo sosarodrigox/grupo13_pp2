{
  "nbformat": 4,
  "nbformat_minor": 0,
  "metadata": {
    "colab": {
      "provenance": [],
      "authorship_tag": "ABX9TyMtdpaPdRRn6KxUQ59x1MfX",
      "include_colab_link": true
    },
    "kernelspec": {
      "name": "python3",
      "display_name": "Python 3"
    },
    "language_info": {
      "name": "python"
    }
  },
  "cells": [
    {
      "cell_type": "markdown",
      "metadata": {
        "id": "view-in-github",
        "colab_type": "text"
      },
      "source": [
        "<a href=\"https://colab.research.google.com/github/sosarodrigox/grupo13_pp2/blob/main/ProyectoIntegrador_Grupo13.ipynb\" target=\"_parent\"><img src=\"https://colab.research.google.com/assets/colab-badge.svg\" alt=\"Open In Colab\"/></a>"
      ]
    },
    {
      "cell_type": "markdown",
      "source": [
        "# Instituto Superior Politécnico Córdoba\n",
        "\n",
        "## Tecnicatura Superior en Ciencia de Datos e Inteligencia Artificial\n",
        "\n",
        "### Cátedra: Práctica Profesionalizante II\n",
        "\n",
        "**Docente**: Facundo Oliva Cuneo\n",
        "\n",
        "**Año**: 2024\n",
        "  \n",
        "**Trabajo Práctico Integrador**\n",
        "\n",
        "## Grupo 13\n",
        "### Integrantes:\n",
        "\n",
        "- **Ingaramo, Ma. Eugenia**  \n",
        "  [eugenia.ingaramo@gmail.com](mailto:eugenia.ingaramo@gmail.com)\n",
        "- **Lonardi, Pablo**  \n",
        "  [lonardipablo@gmail.com](mailto:lonardipablo@gmail.com)\n",
        "- **Margheim, Carolina**  \n",
        "  [caro08.m@gmail.com](mailto:caro08.m@gmail.com)\n",
        "- **Sosa, Rodrigo**  \n",
        "  [sosarodrigox@gmail.com](mailto:sosarodrigox@gmail.com)\n",
        "- **Zenere, Mauricio**  \n",
        "  [zeneremauricio@gmail.com](mailto:zeneremauricio@gmail.com)"
      ],
      "metadata": {
        "id": "Sz3ncOVcGr4G"
      }
    },
    {
      "cell_type": "code",
      "execution_count": null,
      "metadata": {
        "id": "qo0M4sMjECYF"
      },
      "outputs": [],
      "source": []
    }
  ]
}